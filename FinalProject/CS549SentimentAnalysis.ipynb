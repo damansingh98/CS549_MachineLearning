{
  "cells": [
    {
      "cell_type": "code",
      "execution_count": null,
      "metadata": {
        "colab": {
          "base_uri": "https://localhost:8080/"
        },
        "id": "wuS0SRI79cId",
        "outputId": "9e639dcf-dbb0-475e-fe73-7fa0085557ba"
      },
      "outputs": [
        {
          "output_type": "stream",
          "name": "stdout",
          "text": [
            "[nltk_data] Downloading package stopwords to /root/nltk_data...\n",
            "[nltk_data]   Package stopwords is already up-to-date!\n"
          ]
        }
      ],
      "source": [
        "# Libraries for the project \n",
        "import pandas as pd\n",
        "import numpy as np\n",
        "import matplotlib.pyplot as plt\n",
        "import seaborn as sns\n",
        "import nltk\n",
        "nltk.download('stopwords')\n",
        "from nltk.corpus import stopwords\n",
        "import string\n",
        "from sklearn.feature_extraction.text import CountVectorizer\n",
        "from sklearn.model_selection import train_test_split\n",
        "from sklearn.metrics import confusion_matrix, accuracy_score\n",
        "from sklearn.metrics import plot_confusion_matrix\n",
        "from sklearn.metrics import classification_report\n",
        "import warnings\n",
        "\n",
        "%matplotlib inline"
      ]
    },
    {
      "cell_type": "code",
      "execution_count": null,
      "metadata": {
        "colab": {
          "base_uri": "https://localhost:8080/",
          "height": 337
        },
        "id": "YY3J1yyuDrKi",
        "outputId": "16688df8-1575-4184-9da3-3a1f31f17a49"
      },
      "outputs": [
        {
          "output_type": "execute_result",
          "data": {
            "text/plain": [
              "              business_id        date               review_id  stars  \\\n",
              "0  9yKzy9PApeiPPOUJEtnvkg  2011-01-26  fWKvX83p0-ka4JS3dc6E5A      5   \n",
              "1  ZRJwVLyzEJq1VAihDhYiow  2011-07-27  IjZ33sJrzXqU-0X6U8NwyA      5   \n",
              "2  6oRAC4uyJCsJl1X0WZpVSA  2012-06-14  IESLBzqUCLdSzSqm0eCSxQ      4   \n",
              "3  _1QQZuf4zZOyFCvXc0o6Vg  2010-05-27  G-WvGaISbqqaMHlNnByodA      5   \n",
              "4  6ozycU1RpktNG2-1BroVtw  2012-01-05  1uJFq2r5QfJG_6ExMRCaGw      5   \n",
              "\n",
              "                                                text    type  \\\n",
              "0  My wife took me here on my birthday for breakf...  review   \n",
              "1  I have no idea why some people give bad review...  review   \n",
              "2  love the gyro plate. Rice is so good and I als...  review   \n",
              "3  Rosie, Dakota, and I LOVE Chaparral Dog Park!!...  review   \n",
              "4  General Manager Scott Petello is a good egg!!!...  review   \n",
              "\n",
              "                  user_id  cool  useful  funny  \n",
              "0  rLtl8ZkDX5vH5nAx9C3q5Q     2       5      0  \n",
              "1  0a2KyEL0d3Yb1V6aivbIuQ     0       0      0  \n",
              "2  0hT2KtfLiobPvh6cDC8JQg     0       1      0  \n",
              "3  uZetl9T0NcROGOyFfughhg     1       2      0  \n",
              "4  vYmM4KTsC8ZfQBg-j5MWkw     0       0      0  "
            ],
            "text/html": [
              "\n",
              "  <div id=\"df-276fd059-1151-4498-9775-26f2a473bb0d\">\n",
              "    <div class=\"colab-df-container\">\n",
              "      <div>\n",
              "<style scoped>\n",
              "    .dataframe tbody tr th:only-of-type {\n",
              "        vertical-align: middle;\n",
              "    }\n",
              "\n",
              "    .dataframe tbody tr th {\n",
              "        vertical-align: top;\n",
              "    }\n",
              "\n",
              "    .dataframe thead th {\n",
              "        text-align: right;\n",
              "    }\n",
              "</style>\n",
              "<table border=\"1\" class=\"dataframe\">\n",
              "  <thead>\n",
              "    <tr style=\"text-align: right;\">\n",
              "      <th></th>\n",
              "      <th>business_id</th>\n",
              "      <th>date</th>\n",
              "      <th>review_id</th>\n",
              "      <th>stars</th>\n",
              "      <th>text</th>\n",
              "      <th>type</th>\n",
              "      <th>user_id</th>\n",
              "      <th>cool</th>\n",
              "      <th>useful</th>\n",
              "      <th>funny</th>\n",
              "    </tr>\n",
              "  </thead>\n",
              "  <tbody>\n",
              "    <tr>\n",
              "      <th>0</th>\n",
              "      <td>9yKzy9PApeiPPOUJEtnvkg</td>\n",
              "      <td>2011-01-26</td>\n",
              "      <td>fWKvX83p0-ka4JS3dc6E5A</td>\n",
              "      <td>5</td>\n",
              "      <td>My wife took me here on my birthday for breakf...</td>\n",
              "      <td>review</td>\n",
              "      <td>rLtl8ZkDX5vH5nAx9C3q5Q</td>\n",
              "      <td>2</td>\n",
              "      <td>5</td>\n",
              "      <td>0</td>\n",
              "    </tr>\n",
              "    <tr>\n",
              "      <th>1</th>\n",
              "      <td>ZRJwVLyzEJq1VAihDhYiow</td>\n",
              "      <td>2011-07-27</td>\n",
              "      <td>IjZ33sJrzXqU-0X6U8NwyA</td>\n",
              "      <td>5</td>\n",
              "      <td>I have no idea why some people give bad review...</td>\n",
              "      <td>review</td>\n",
              "      <td>0a2KyEL0d3Yb1V6aivbIuQ</td>\n",
              "      <td>0</td>\n",
              "      <td>0</td>\n",
              "      <td>0</td>\n",
              "    </tr>\n",
              "    <tr>\n",
              "      <th>2</th>\n",
              "      <td>6oRAC4uyJCsJl1X0WZpVSA</td>\n",
              "      <td>2012-06-14</td>\n",
              "      <td>IESLBzqUCLdSzSqm0eCSxQ</td>\n",
              "      <td>4</td>\n",
              "      <td>love the gyro plate. Rice is so good and I als...</td>\n",
              "      <td>review</td>\n",
              "      <td>0hT2KtfLiobPvh6cDC8JQg</td>\n",
              "      <td>0</td>\n",
              "      <td>1</td>\n",
              "      <td>0</td>\n",
              "    </tr>\n",
              "    <tr>\n",
              "      <th>3</th>\n",
              "      <td>_1QQZuf4zZOyFCvXc0o6Vg</td>\n",
              "      <td>2010-05-27</td>\n",
              "      <td>G-WvGaISbqqaMHlNnByodA</td>\n",
              "      <td>5</td>\n",
              "      <td>Rosie, Dakota, and I LOVE Chaparral Dog Park!!...</td>\n",
              "      <td>review</td>\n",
              "      <td>uZetl9T0NcROGOyFfughhg</td>\n",
              "      <td>1</td>\n",
              "      <td>2</td>\n",
              "      <td>0</td>\n",
              "    </tr>\n",
              "    <tr>\n",
              "      <th>4</th>\n",
              "      <td>6ozycU1RpktNG2-1BroVtw</td>\n",
              "      <td>2012-01-05</td>\n",
              "      <td>1uJFq2r5QfJG_6ExMRCaGw</td>\n",
              "      <td>5</td>\n",
              "      <td>General Manager Scott Petello is a good egg!!!...</td>\n",
              "      <td>review</td>\n",
              "      <td>vYmM4KTsC8ZfQBg-j5MWkw</td>\n",
              "      <td>0</td>\n",
              "      <td>0</td>\n",
              "      <td>0</td>\n",
              "    </tr>\n",
              "  </tbody>\n",
              "</table>\n",
              "</div>\n",
              "      <button class=\"colab-df-convert\" onclick=\"convertToInteractive('df-276fd059-1151-4498-9775-26f2a473bb0d')\"\n",
              "              title=\"Convert this dataframe to an interactive table.\"\n",
              "              style=\"display:none;\">\n",
              "        \n",
              "  <svg xmlns=\"http://www.w3.org/2000/svg\" height=\"24px\"viewBox=\"0 0 24 24\"\n",
              "       width=\"24px\">\n",
              "    <path d=\"M0 0h24v24H0V0z\" fill=\"none\"/>\n",
              "    <path d=\"M18.56 5.44l.94 2.06.94-2.06 2.06-.94-2.06-.94-.94-2.06-.94 2.06-2.06.94zm-11 1L8.5 8.5l.94-2.06 2.06-.94-2.06-.94L8.5 2.5l-.94 2.06-2.06.94zm10 10l.94 2.06.94-2.06 2.06-.94-2.06-.94-.94-2.06-.94 2.06-2.06.94z\"/><path d=\"M17.41 7.96l-1.37-1.37c-.4-.4-.92-.59-1.43-.59-.52 0-1.04.2-1.43.59L10.3 9.45l-7.72 7.72c-.78.78-.78 2.05 0 2.83L4 21.41c.39.39.9.59 1.41.59.51 0 1.02-.2 1.41-.59l7.78-7.78 2.81-2.81c.8-.78.8-2.07 0-2.86zM5.41 20L4 18.59l7.72-7.72 1.47 1.35L5.41 20z\"/>\n",
              "  </svg>\n",
              "      </button>\n",
              "      \n",
              "  <style>\n",
              "    .colab-df-container {\n",
              "      display:flex;\n",
              "      flex-wrap:wrap;\n",
              "      gap: 12px;\n",
              "    }\n",
              "\n",
              "    .colab-df-convert {\n",
              "      background-color: #E8F0FE;\n",
              "      border: none;\n",
              "      border-radius: 50%;\n",
              "      cursor: pointer;\n",
              "      display: none;\n",
              "      fill: #1967D2;\n",
              "      height: 32px;\n",
              "      padding: 0 0 0 0;\n",
              "      width: 32px;\n",
              "    }\n",
              "\n",
              "    .colab-df-convert:hover {\n",
              "      background-color: #E2EBFA;\n",
              "      box-shadow: 0px 1px 2px rgba(60, 64, 67, 0.3), 0px 1px 3px 1px rgba(60, 64, 67, 0.15);\n",
              "      fill: #174EA6;\n",
              "    }\n",
              "\n",
              "    [theme=dark] .colab-df-convert {\n",
              "      background-color: #3B4455;\n",
              "      fill: #D2E3FC;\n",
              "    }\n",
              "\n",
              "    [theme=dark] .colab-df-convert:hover {\n",
              "      background-color: #434B5C;\n",
              "      box-shadow: 0px 1px 3px 1px rgba(0, 0, 0, 0.15);\n",
              "      filter: drop-shadow(0px 1px 2px rgba(0, 0, 0, 0.3));\n",
              "      fill: #FFFFFF;\n",
              "    }\n",
              "  </style>\n",
              "\n",
              "      <script>\n",
              "        const buttonEl =\n",
              "          document.querySelector('#df-276fd059-1151-4498-9775-26f2a473bb0d button.colab-df-convert');\n",
              "        buttonEl.style.display =\n",
              "          google.colab.kernel.accessAllowed ? 'block' : 'none';\n",
              "\n",
              "        async function convertToInteractive(key) {\n",
              "          const element = document.querySelector('#df-276fd059-1151-4498-9775-26f2a473bb0d');\n",
              "          const dataTable =\n",
              "            await google.colab.kernel.invokeFunction('convertToInteractive',\n",
              "                                                     [key], {});\n",
              "          if (!dataTable) return;\n",
              "\n",
              "          const docLinkHtml = 'Like what you see? Visit the ' +\n",
              "            '<a target=\"_blank\" href=https://colab.research.google.com/notebooks/data_table.ipynb>data table notebook</a>'\n",
              "            + ' to learn more about interactive tables.';\n",
              "          element.innerHTML = '';\n",
              "          dataTable['output_type'] = 'display_data';\n",
              "          await google.colab.output.renderOutput(dataTable, element);\n",
              "          const docLink = document.createElement('div');\n",
              "          docLink.innerHTML = docLinkHtml;\n",
              "          element.appendChild(docLink);\n",
              "        }\n",
              "      </script>\n",
              "    </div>\n",
              "  </div>\n",
              "  "
            ]
          },
          "metadata": {},
          "execution_count": 66
        }
      ],
      "source": [
        "#Dataset is available on the google drive for retrieval. (4 GB of Yelp.csv)\n",
        "url = 'https://drive.google.com/file/d/14eb_pHWaMMT8tP1paq0pVsfdHs36O9jK/view?usp=sharing'\n",
        "url = 'https://drive.google.com/uc?id=' + url.split('/')[-2]\n",
        "df = pd.read_csv(url)\n",
        "# Display data  \n",
        "df.head()"
      ]
    },
    {
      "cell_type": "code",
      "execution_count": null,
      "metadata": {
        "colab": {
          "base_uri": "https://localhost:8080/"
        },
        "id": "381nhwNGErHl",
        "outputId": "281b6c39-2338-442b-e92f-68fe433e8354"
      },
      "outputs": [
        {
          "output_type": "stream",
          "name": "stdout",
          "text": [
            "TEXT:  My wife took me here on my birthday for breakfast and it was excellent.  The weather was perfect which made sitting outside overlooking their grounds an absolute pleasure.  Our waitress was excellent and our food arrived quickly on the semi-busy Saturday morning.  It looked like the place fills up pretty quickly so the earlier you get here the better.\n",
            "\n",
            "Do yourself a favor and get their Bloody Mary.  It was phenomenal and simply the best I've ever had.  I'm pretty sure they only use ingredients from their garden and blend them fresh when you order it.  It was amazing.\n",
            "\n",
            "While EVERYTHING on the menu looks excellent, I had the white truffle scrambled eggs vegetable skillet and it was tasty and delicious.  It came with 2 pieces of their griddled bread with was amazing and it absolutely made the meal complete.  It was the best \"toast\" I've ever had.\n",
            "\n",
            "Anyway, I can't wait to go back!\n",
            "\n",
            "\n",
            "Corresponding star: 5\n",
            "\n"
          ]
        }
      ],
      "source": [
        "# Classify and separate x and y\n",
        "x = df['text']\n",
        "y = df['stars']\n",
        "\n",
        "#Given text and corresponding star is given as:\n",
        "print('TEXT: ', x[0])\n",
        "print('\\n')\n",
        "print('Corresponding star: {}\\n'.format(y[0]))"
      ]
    },
    {
      "cell_type": "code",
      "execution_count": null,
      "metadata": {
        "colab": {
          "base_uri": "https://localhost:8080/",
          "height": 383
        },
        "id": "E_X5eW059oXH",
        "outputId": "555fa943-1ebe-4637-92fb-52c76c8cc537"
      },
      "outputs": [
        {
          "output_type": "execute_result",
          "data": {
            "text/plain": [
              "Text(0.5, 0, 'Stars')"
            ]
          },
          "metadata": {},
          "execution_count": 68
        },
        {
          "output_type": "display_data",
          "data": {
            "text/plain": [
              "<Figure size 432x288 with 1 Axes>"
            ],
            "image/png": "[encoded data removed]"
          },
          "metadata": {
            "needs_background": "light"
          }
        }
      ],
      "source": [
        "#Frequency of stars in the dataset\n",
        "frq = [0, 0, 0, 0, 0]\n",
        "for i in y:\n",
        "  if (i == 1):\n",
        "    frq[0] += 1\n",
        "  elif (i == 2):\n",
        "    frq[1] += 1\n",
        "  elif (i == 3):\n",
        "    frq[2] += 1\n",
        "  elif (i == 4):\n",
        "    frq[3]  += 1\n",
        "  else:\n",
        "    frq[4] += 1\n",
        "\n",
        "# Bar plot of frequency\n",
        "fig = plt.figure()\n",
        "ax = fig.add_axes([0,0,1,1])\n",
        "strs = [1, 2, 3, 4, 5]\n",
        "vals = [frq[0], frq[1], frq[2], frq[3], frq[4]]\n",
        "ax.bar(strs, vals, color = ['black', 'red', 'green', 'blue', 'purple'])\n",
        "plt.title('Star Frequency')\n",
        "plt.ylabel('Frequency')\n",
        "plt.xlabel('Stars')"
      ]
    },
    {
      "cell_type": "code",
      "execution_count": null,
      "metadata": {
        "colab": {
          "base_uri": "https://localhost:8080/"
        },
        "id": "SzOxETpka2XK",
        "outputId": "0a045bf0-b47e-49f5-a916-cd450734af29"
      },
      "outputs": [
        {
          "output_type": "stream",
          "name": "stdout",
          "text": [
            "Frequency Figures: \n",
            "Star 1: 749\n",
            "Star 2: 927\n",
            "Star 3: 1461\n",
            "Star 4: 3526\n",
            "Star 5: 3337\n"
          ]
        }
      ],
      "source": [
        "#Actual Figures of each star's frequency\n",
        "print('Frequency Figures: ')\n",
        "print('Star 1: {}'.format(frq[0]))\n",
        "print('Star 2: {}'.format(frq[1]))\n",
        "print('Star 3: {}'.format(frq[2]))\n",
        "print('Star 4: {}'.format(frq[3]))\n",
        "print('Star 5: {}'.format(frq[4]))"
      ]
    },
    {
      "cell_type": "code",
      "source": [
        "# New dataframe\n",
        "select_Col = df[[\"text\", \"stars\"]]\n",
        "\n",
        "newDf = select_Col.copy()\n",
        "\n",
        "# Normalize all dataset to become equal to 749 \n",
        "one_df = newDf.query(\"stars == 1 \").sample(n=749)\n",
        "\n",
        "two_df = newDf.query(\"stars == 2 \").sample(n=749)\n",
        "\n",
        "three_df = newDf.query(\"stars == 3\").sample(n=749)\n",
        "\n",
        "four_df = newDf.query(\"stars == 4\").sample(n=749)\n",
        "\n",
        "five_df = newDf.query(\"stars == 5\").sample(n=749)\n",
        "\n",
        "#Concat all data \n",
        "mrg = pd.concat([one_df, two_df, three_df, four_df, five_df])\n",
        "\n",
        "print(mrg)"
      ],
      "metadata": {
        "colab": {
          "base_uri": "https://localhost:8080/"
        },
        "id": "a-tzbspWWsXY",
        "outputId": "6071d577-b32e-449f-922c-34e576fb2093"
      },
      "execution_count": null,
      "outputs": [
        {
          "output_type": "stream",
          "name": "stdout",
          "text": [
            "                                                   text  stars\n",
            "6648  Worst, slow service ever....especially with al...      1\n",
            "874   We went to American Junkie after we found a 50...      1\n",
            "468   My family and I ate here just a few days ago. ...      1\n",
            "8157  Very nice location but food was awful.  Had a ...      1\n",
            "8615  I guess this is an east coast/midwest thing be...      1\n",
            "...                                                 ...    ...\n",
            "5622  Impressive!   I dined at House of Tricks last ...      5\n",
            "6982  The best Vietnamese I have ever had. Very auth...      5\n",
            "7800  On top of how good the food is, their customer...      5\n",
            "600   After reading the great reviews and getting pl...      5\n",
            "6329  This place is the best! They stopped doing tac...      5\n",
            "\n",
            "[3745 rows x 2 columns]\n"
          ]
        }
      ]
    },
    {
      "cell_type": "code",
      "source": [
        "from sklearn.utils import shuffle\n",
        "\n",
        "mrg = shuffle(mrg)\n",
        "\n",
        "mrg.reset_index()\n",
        "\n",
        "new_x  = mrg['text']\n",
        "new_y = mrg['stars']\n"
      ],
      "metadata": {
        "id": "VOTspPXYbl35"
      },
      "execution_count": null,
      "outputs": []
    },
    {
      "cell_type": "code",
      "source": [
        "# Frequency of each star after normalizing\n",
        "new_frq = [0, 0, 0, 0, 0]\n",
        "for i in new_y:\n",
        "  if (i == 1):\n",
        "    new_frq[0] += 1\n",
        "  elif (i == 2):\n",
        "    new_frq[1] += 1\n",
        "  elif (i == 3):\n",
        "    new_frq[2] += 1\n",
        "  elif (i == 4):\n",
        "    new_frq[3]  += 1\n",
        "  else:\n",
        "    new_frq[4] += 1\n",
        "\n",
        "print('New Frequency Figures: ')\n",
        "print('Star 1: {}'.format(new_frq[0]))\n",
        "print('Star 2: {}'.format(new_frq[1]))\n",
        "print('Star 3: {}'.format(new_frq[2]))\n",
        "print('Star 4: {}'.format(new_frq[3]))\n",
        "print('Star 5: {}'.format(new_frq[4]))\n"
      ],
      "metadata": {
        "colab": {
          "base_uri": "https://localhost:8080/"
        },
        "id": "EJ67GtblcOta",
        "outputId": "e9caa055-9306-41e9-d5d0-cd66dd3e3e1f"
      },
      "execution_count": null,
      "outputs": [
        {
          "output_type": "stream",
          "name": "stdout",
          "text": [
            "New Frequency Figures: \n",
            "Star 1: 749\n",
            "Star 2: 749\n",
            "Star 3: 749\n",
            "Star 4: 749\n",
            "Star 5: 749\n"
          ]
        }
      ]
    },
    {
      "cell_type": "code",
      "source": [
        "#Star Frequency after normalizing\n",
        "fig_2 = plt.figure()\n",
        "ax_2 = fig_2.add_axes([0,0,1,1])\n",
        "strs_2 = [1, 2, 3, 4, 5]\n",
        "vals_2 = [new_frq[0], new_frq[1], new_frq[2], new_frq[3], new_frq[4]]\n",
        "ax_2.bar(strs_2, vals_2, color = ['black', 'red', 'green', 'blue', 'purple'])\n",
        "plt.title('Star Frequency')\n",
        "plt.ylabel('Frequency')\n",
        "plt.xlabel('Stars')"
      ],
      "metadata": {
        "colab": {
          "base_uri": "https://localhost:8080/",
          "height": 383
        },
        "id": "pJ4nYqV0nhfA",
        "outputId": "0db754cf-d342-4459-ec41-3773b657de55"
      },
      "execution_count": null,
      "outputs": [
        {
          "output_type": "execute_result",
          "data": {
            "text/plain": [
              "Text(0.5, 0, 'Stars')"
            ]
          },
          "metadata": {},
          "execution_count": 90
        },
        {
          "output_type": "display_data",
          "data": {
            "text/plain": [
              "<Figure size 432x288 with 1 Axes>"
            ],
            "image/png": "[encoded data removed]"
          },
          "metadata": {
            "needs_background": "light"
          }
        }
      ]
    },
    {
      "cell_type": "code",
      "execution_count": null,
      "metadata": {
        "id": "0URE1tKeEvom"
      },
      "outputs": [],
      "source": [
        "# Removal of stopwords and punctuation\n",
        "def preprocess(text):\n",
        "    remove_punc = [char for char in text if char not in string.punctuation]\n",
        "    remove_punc = ''.join(remove_punc)\n",
        "    lwr = [word.lower() for word in remove_punc.split()]\n",
        "    words = [word for word in lwr if word not in stopwords.words('english')]\n",
        "    return words"
      ]
    },
    {
      "cell_type": "code",
      "execution_count": null,
      "metadata": {
        "id": "l9wnLP7iEyhT"
      },
      "outputs": [],
      "source": [
        "# Convert text into a vector and eliminate stopwords\n",
        "\n",
        "# (THIS STEP MAY TAKE A WHILE TO PROCESS)\n",
        "vocab = CountVectorizer(analyzer = preprocess).fit(new_x)\n",
        "\n",
        "new_x = vocab.transform(new_x)"
      ]
    },
    {
      "cell_type": "code",
      "execution_count": null,
      "metadata": {
        "colab": {
          "base_uri": "https://localhost:8080/"
        },
        "id": "kBtRnaH-MTJT",
        "outputId": "ea2dc4bb-4327-4132-be65-2945e407653d"
      },
      "outputs": [
        {
          "output_type": "stream",
          "name": "stdout",
          "text": [
            "Training set shapes: \n",
            "x:  (2808, 22202)\n",
            "y:  (2808,)\n",
            "\n",
            "\n",
            "Testing set shapes: \n",
            "x:  (937, 22202)\n",
            "y:  (937,)\n",
            "\n",
            "\n"
          ]
        }
      ],
      "source": [
        "# Splitting data with 75/25 ratio \n",
        "x_train,x_test,y_train,y_test = train_test_split(new_x,new_y,test_size=0.25,random_state=101)\n",
        "\n",
        "# Training data shape as in sparse matrix\n",
        "print('Training set shapes: ')\n",
        "print('x: ', x_train.shape)\n",
        "print('y: ', y_train.shape)\n",
        "print('\\n')\n",
        "\n",
        "\n",
        "# Training data shape as in sparse matrix\n",
        "print('Testing set shapes: ')\n",
        "print('x: ', x_test.shape)\n",
        "print('y: ', y_test.shape)\n",
        "print('\\n')"
      ]
    },
    {
      "cell_type": "markdown",
      "metadata": {
        "id": "md4WgDJwCqcR"
      },
      "source": [
        "**Five Supervised Machine Learning Models:**"
      ]
    },
    {
      "cell_type": "code",
      "source": [
        "# Accuracy Score Holder\n",
        "ac_scr = []"
      ],
      "metadata": {
        "id": "TZu5mVClBG9_"
      },
      "execution_count": null,
      "outputs": []
    },
    {
      "cell_type": "code",
      "execution_count": null,
      "metadata": {
        "colab": {
          "base_uri": "https://localhost:8080/",
          "height": 416
        },
        "id": "Js_-3OOyNL4n",
        "outputId": "269d83ec-f641-4b60-82d1-ec3ff6c307c9"
      },
      "outputs": [
        {
          "output_type": "stream",
          "name": "stdout",
          "text": [
            "Naive Baiyes Model\n",
            "\n",
            "Accuracy Score: 0.4589114194236926\n",
            "\n",
            "Confusion Matrix for Multilayer Perceptron Classifier:\n",
            "<sklearn.metrics._plot.confusion_matrix.ConfusionMatrixDisplay object at 0x7f8d8550cc90>\n"
          ]
        },
        {
          "output_type": "execute_result",
          "data": {
            "text/plain": [
              "Text(0.5, 1.0, 'Multinomial Naive Bayes')"
            ]
          },
          "metadata": {},
          "execution_count": 78
        },
        {
          "output_type": "display_data",
          "data": {
            "text/plain": [
              "<Figure size 432x288 with 2 Axes>"
            ],
            "image/png": "[encoded data removed]"
          },
          "metadata": {
            "needs_background": "light"
          }
        }
      ],
      "source": [
        "# Multinomial Naive Bayes\n",
        "from sklearn.naive_bayes import MultinomialNB\n",
        "\n",
        "print('Naive Baiyes Model\\n')\n",
        "\n",
        "model_1 = MultinomialNB(alpha = 0.4).fit(x_train,y_train)\n",
        "\n",
        "\n",
        "model_1_pred = model_1.predict(x_test)\n",
        "\n",
        "#Confusion Matrix\n",
        "pltcon_n = plot_confusion_matrix(model_1, x_test, y_test)\n",
        "\n",
        "acc_score = accuracy_score(y_test, model_1_pred)\n",
        "ac_scr.append(acc_score)\n",
        "\n",
        "print('Accuracy Score: {}\\n'.format(acc_score))\n",
        "warnings.simplefilter(action = 'ignore', category = FutureWarning)\n",
        "print(\"Confusion Matrix for Multilayer Perceptron Classifier:\")\n",
        "print(pltcon_n)\n",
        "plt.title(\"Multinomial Naive Bayes\")"
      ]
    },
    {
      "cell_type": "code",
      "execution_count": null,
      "metadata": {
        "colab": {
          "base_uri": "https://localhost:8080/",
          "height": 382
        },
        "id": "08pQGMM1NSqq",
        "outputId": "6fd7c8d7-8945-458c-bbbc-24f48897f613"
      },
      "outputs": [
        {
          "output_type": "stream",
          "name": "stdout",
          "text": [
            "Accuracy Score: 0.4386339381003202\n",
            "\n",
            "Confusion Matrix for Random Forest Classifier:\n",
            "<sklearn.metrics._plot.confusion_matrix.ConfusionMatrixDisplay object at 0x7f8d8563d3d0>\n"
          ]
        },
        {
          "output_type": "execute_result",
          "data": {
            "text/plain": [
              "Text(0.5, 1.0, 'Random Forest')"
            ]
          },
          "metadata": {},
          "execution_count": 79
        },
        {
          "output_type": "display_data",
          "data": {
            "text/plain": [
              "<Figure size 432x288 with 2 Axes>"
            ],
            "image/png": "[encoded data removed]"
          },
          "metadata": {
            "needs_background": "light"
          }
        }
      ],
      "source": [
        "# Random Forest\n",
        "from sklearn.ensemble import RandomForestClassifier\n",
        "\n",
        "model_2 = RandomForestClassifier().fit(x_train,y_train)\n",
        "\n",
        "model_2_pred = model_2.predict(x_test)\n",
        "\n",
        "\n",
        "acc_score_2 = accuracy_score(y_test, model_2_pred)\n",
        "ac_scr.append(acc_score_2)\n",
        "print('Accuracy Score: {}\\n'.format(acc_score_2))\n",
        "\n",
        "#Confusion Matrix\n",
        "pltcon_R = plot_confusion_matrix(model_2, x_test, y_test)\n",
        "print(\"Confusion Matrix for Random Forest Classifier:\")\n",
        "print(pltcon_R)\n",
        "plt.title(\"Random Forest\")"
      ]
    },
    {
      "cell_type": "code",
      "execution_count": null,
      "metadata": {
        "colab": {
          "base_uri": "https://localhost:8080/",
          "height": 364
        },
        "id": "UEVk8IOtOEzo",
        "outputId": "0c56d0db-0d56-47e8-f71b-be1ff104dd4d"
      },
      "outputs": [
        {
          "output_type": "stream",
          "name": "stdout",
          "text": [
            "Accuracy_score 0.3030949839914621\n",
            "Confusion Matrix for Decision Tree Classifier:\n",
            "<sklearn.metrics._plot.confusion_matrix.ConfusionMatrixDisplay object at 0x7f8d854f7fd0>\n"
          ]
        },
        {
          "output_type": "execute_result",
          "data": {
            "text/plain": [
              "Text(0.5, 1.0, 'Decision Tree')"
            ]
          },
          "metadata": {},
          "execution_count": 80
        },
        {
          "output_type": "display_data",
          "data": {
            "text/plain": [
              "<Figure size 432x288 with 2 Axes>"
            ],
            "image/png": "[encoded data removed]"
          },
          "metadata": {
            "needs_background": "light"
          }
        }
      ],
      "source": [
        "# Decision Tree\n",
        "from sklearn.tree import DecisionTreeClassifier\n",
        "model_3 = DecisionTreeClassifier().fit(x_train,y_train)\n",
        "\n",
        "model_3_pred = model_3.predict(x_test)\n",
        "ac = accuracy_score(y_test, model_3_pred)\n",
        "ac_scr.append(ac)\n",
        "\n",
        "print('Accuracy_score {}'.format(ac))\n",
        "\n",
        "#Confusion Matrix\n",
        "pltcon_DT = plot_confusion_matrix(model_3, x_test, y_test)\n",
        "print(\"Confusion Matrix for Decision Tree Classifier:\")\n",
        "print(pltcon_DT)\n",
        "plt.title(\"Decision Tree\")"
      ]
    },
    {
      "cell_type": "code",
      "execution_count": null,
      "metadata": {
        "colab": {
          "base_uri": "https://localhost:8080/",
          "height": 364
        },
        "id": "ymfzLpbSOHSd",
        "outputId": "644b1911-fa0c-4370-f00f-6c8b5a65d5ac"
      },
      "outputs": [
        {
          "output_type": "stream",
          "name": "stdout",
          "text": [
            "Accuracy_score 0.4386339381003202\n",
            "Confusion Matrix for SVC Classifier:\n",
            "<sklearn.metrics._plot.confusion_matrix.ConfusionMatrixDisplay object at 0x7f8d8453fe90>\n"
          ]
        },
        {
          "output_type": "execute_result",
          "data": {
            "text/plain": [
              "Text(0.5, 1.0, 'Support Vector Classification')"
            ]
          },
          "metadata": {},
          "execution_count": 81
        },
        {
          "output_type": "display_data",
          "data": {
            "text/plain": [
              "<Figure size 432x288 with 2 Axes>"
            ],
            "image/png": "[encoded data removed]"
          },
          "metadata": {
            "needs_background": "light"
          }
        }
      ],
      "source": [
        "# Support Vector Machine\n",
        "from sklearn.svm import SVC\n",
        "\n",
        "model_4 = SVC().fit(x_train,y_train)\n",
        "\n",
        "model_4_pred = model_4.predict(x_test)\n",
        "\n",
        "ac_4 = accuracy_score(y_test, model_4_pred)\n",
        "ac_scr.append(ac_4)\n",
        "\n",
        "print('Accuracy_score {}'.format(ac_4))\n",
        "\n",
        "#Confusion Matrix\n",
        "pltcon_svm = plot_confusion_matrix(model_4, x_test, y_test)\n",
        "print(\"Confusion Matrix for SVC Classifier:\")\n",
        "print(pltcon_svm)\n",
        "plt.title(\"Support Vector Classification\")"
      ]
    },
    {
      "cell_type": "code",
      "execution_count": null,
      "metadata": {
        "colab": {
          "base_uri": "https://localhost:8080/",
          "height": 364
        },
        "id": "Z7f7Ict7OVC1",
        "outputId": "24f71697-2f2a-4cf2-ebae-0e66d782620b"
      },
      "outputs": [
        {
          "output_type": "stream",
          "name": "stdout",
          "text": [
            "Accuracy_score 0.2934898612593383\n",
            "Confusion Matrix for KNN:\n",
            "<sklearn.metrics._plot.confusion_matrix.ConfusionMatrixDisplay object at 0x7f8d8576d7d0>\n"
          ]
        },
        {
          "output_type": "execute_result",
          "data": {
            "text/plain": [
              "Text(0.5, 1.0, 'K Nearest Neighbour Algorithm')"
            ]
          },
          "metadata": {},
          "execution_count": 82
        },
        {
          "output_type": "display_data",
          "data": {
            "text/plain": [
              "<Figure size 432x288 with 2 Axes>"
            ],
            "image/png": "[encoded data removed]"
          },
          "metadata": {
            "needs_background": "light"
          }
        }
      ],
      "source": [
        "# K Nearest Neighbour Algorithm\n",
        "from sklearn.neighbors import KNeighborsClassifier\n",
        "model_5 = KNeighborsClassifier(n_neighbors = 6).fit(x_train,y_train)\n",
        "\n",
        "model_5_pred = model_5.predict(x_test)\n",
        "\n",
        "ac_5 = accuracy_score(y_test, model_5_pred)\n",
        "ac_scr.append(ac_5)\n",
        "print('Accuracy_score {}'.format(ac_5))\n",
        "\n",
        "#Confusion Matrix\n",
        "pltcon_k = plot_confusion_matrix(model_5, x_test, y_test)\n",
        "print(\"Confusion Matrix for KNN:\")\n",
        "print(pltcon_k)\n",
        "plt.title(\"K Nearest Neighbour Algorithm\")"
      ]
    },
    {
      "cell_type": "code",
      "execution_count": null,
      "metadata": {
        "colab": {
          "base_uri": "https://localhost:8080/",
          "height": 364
        },
        "id": "J4xWRR-UOVbn",
        "outputId": "fe9d0b14-c6f9-4e45-9ba3-27ca1d9d5831"
      },
      "outputs": [
        {
          "output_type": "stream",
          "name": "stdout",
          "text": [
            "Accuracy_score 0.43543223052294555\n",
            "Confusion Matrix for Multilayer Perceptron Classifier:\n",
            "<sklearn.metrics._plot.confusion_matrix.ConfusionMatrixDisplay object at 0x7f8d860edd90>\n"
          ]
        },
        {
          "output_type": "execute_result",
          "data": {
            "text/plain": [
              "Text(0.5, 1.0, 'Multilayer Perceptron Classifier')"
            ]
          },
          "metadata": {},
          "execution_count": 83
        },
        {
          "output_type": "display_data",
          "data": {
            "text/plain": [
              "<Figure size 432x288 with 2 Axes>"
            ],
            "image/png": "[encoded data removed]"
          },
          "metadata": {
            "needs_background": "light"
          }
        }
      ],
      "source": [
        "# MULTILAYER PERCEPTRON CLASSIFIER\n",
        "from sklearn.neural_network import MLPClassifier\n",
        "\n",
        "model_6 = MLPClassifier(hidden_layer_sizes = (100,)).fit(x_train,y_train)\n",
        "\n",
        "\n",
        "model_6_pred = model_6.predict(x_test)\n",
        "ac_6 = accuracy_score(y_test, model_6_pred)\n",
        "\n",
        "ac_scr.append(ac_6)\n",
        "print('Accuracy_score {}'.format(ac_6))\n",
        "\n",
        "#Confusion Matrix\n",
        "pltcon_m = plot_confusion_matrix(model_6, x_test, y_test)\n",
        "print(\"Confusion Matrix for Multilayer Perceptron Classifier:\")\n",
        "print(pltcon_m)\n",
        "plt.title(\"Multilayer Perceptron Classifier\")"
      ]
    },
    {
      "cell_type": "code",
      "source": [
        "#Accuracy scores before optimization\n",
        "for i in range(len(ac_scr)):\n",
        "  ac_scr[i] = round(ac_scr[i], 2)\n",
        "\n",
        "def addlabels(x,y):\n",
        "    for i in range(len(x)):\n",
        "        plt.text(i,y[i],y[i])\n",
        "\n",
        "# Accuracy Plot\n",
        "fig_3 = plt.figure()\n",
        "ax_3 = fig_3.add_axes([0,0,1,1])\n",
        "strs_3 = ['MNB', 'RF', 'DT', 'SVM', 'KNN', 'MLP']\n",
        "vals_3 = [ac_scr[0],ac_scr[1],ac_scr[2], ac_scr[3], ac_scr[4], ac_scr[5]]\n",
        "ax_3.bar(strs_3, vals_3, color = ['black', 'red', 'green', 'blue', 'purple', 'orange'])\n",
        "addlabels(strs_3, vals_3)\n",
        "plt.title('Accuracy Scores')\n",
        "plt.xlabel('Models')\n",
        "plt.ylabel('Accuracy Score')\n"
      ],
      "metadata": {
        "colab": {
          "base_uri": "https://localhost:8080/",
          "height": 383
        },
        "id": "rdMvLLbK2L4A",
        "outputId": "0e72b814-f118-4df8-8197-220be6b44700"
      },
      "execution_count": null,
      "outputs": [
        {
          "output_type": "execute_result",
          "data": {
            "text/plain": [
              "Text(0, 0.5, 'Accuracy Score')"
            ]
          },
          "metadata": {},
          "execution_count": 84
        },
        {
          "output_type": "display_data",
          "data": {
            "text/plain": [
              "<Figure size 432x288 with 1 Axes>"
            ],
            "image/png": "[encoded data removed]"
          },
          "metadata": {
            "needs_background": "light"
          }
        }
      ]
    }
  ],
  "metadata": {
    "colab": {
      "collapsed_sections": [],
      "name": "CS549SentimentAnalysis.ipynb",
      "provenance": []
    },
    "kernelspec": {
      "display_name": "Python 3",
      "name": "python3"
    },
    "language_info": {
      "name": "python"
    }
  },
  "nbformat": 4,
  "nbformat_minor": 0
}